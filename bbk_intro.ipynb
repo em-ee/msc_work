{
 "cells": [
  {
   "cell_type": "code",
   "execution_count": 2,
   "metadata": {},
   "outputs": [
    {
     "name": "stdout",
     "output_type": "stream",
     "text": [
      "\n"
     ]
    }
   ],
   "source": [
    "#Exercise 1.A1\n",
    "print()"
   ]
  },
  {
   "cell_type": "code",
   "execution_count": 3,
   "metadata": {},
   "outputs": [
    {
     "name": "stdout",
     "output_type": "stream",
     "text": [
      "Hickory, Dickory, Dock\n"
     ]
    }
   ],
   "source": [
    "#Exercise 1.A2\n",
    "print('Hickory, Dickory, Dock')"
   ]
  },
  {
   "cell_type": "code",
   "execution_count": 4,
   "metadata": {},
   "outputs": [
    {
     "name": "stdout",
     "output_type": "stream",
     "text": [
      "Enter a word\n",
      "hello\n",
      "Enter another word\n",
      "there\n",
      "there\n",
      "hello\n"
     ]
    }
   ],
   "source": [
    "#Exercise 1.A3\n",
    "print('Enter a word')\n",
    "word1 = input()\n",
    "print('Enter another word')\n",
    "word2 = input()\n",
    "print(word2 +'\\n'+ word1)"
   ]
  },
  {
   "cell_type": "code",
   "execution_count": 5,
   "metadata": {},
   "outputs": [
    {
     "name": "stdout",
     "output_type": "stream",
     "text": [
      "Please key in a word:\n",
      "hello\n",
      "And now key in another:\n",
      "there\n",
      "You have typed: hello there"
     ]
    }
   ],
   "source": [
    "#Exercise 1.B\n",
    "print('Please key in a word:')\n",
    "word1 = input()\n",
    "print('And now key in another:')\n",
    "word2 = input()    \n",
    "print('You have typed: ' + word1 + ' ' + word2, end = '')\n"
   ]
  },
  {
   "cell_type": "code",
   "execution_count": 6,
   "metadata": {},
   "outputs": [
    {
     "name": "stdout",
     "output_type": "stream",
     "text": [
      "5\n",
      "7\n",
      "12\n",
      "10\n",
      "2\n"
     ]
    },
    {
     "ename": "ZeroDivisionError",
     "evalue": "integer division or modulo by zero",
     "output_type": "error",
     "traceback": [
      "\u001b[0;31m---------------------------------------------------------------------------\u001b[0m",
      "\u001b[0;31mZeroDivisionError\u001b[0m                         Traceback (most recent call last)",
      "\u001b[0;32m<ipython-input-6-d29baeeb5b02>\u001b[0m in \u001b[0;36m<module>\u001b[0;34m()\u001b[0m\n\u001b[1;32m      9\u001b[0m \u001b[0mnum\u001b[0m \u001b[0;34m=\u001b[0m \u001b[0;36m24\u001b[0m \u001b[0;34m//\u001b[0m \u001b[0;36m3\u001b[0m \u001b[0;34m//\u001b[0m \u001b[0;36m4\u001b[0m\u001b[0;34m\u001b[0m\u001b[0m\n\u001b[1;32m     10\u001b[0m \u001b[0mprint\u001b[0m\u001b[0;34m(\u001b[0m\u001b[0mstr\u001b[0m\u001b[0;34m(\u001b[0m\u001b[0mnum\u001b[0m\u001b[0;34m)\u001b[0m\u001b[0;34m)\u001b[0m \u001b[0;31m#2\u001b[0m\u001b[0;34m\u001b[0m\u001b[0m\n\u001b[0;32m---> 11\u001b[0;31m \u001b[0mnum\u001b[0m \u001b[0;34m=\u001b[0m \u001b[0;36m24\u001b[0m \u001b[0;34m//\u001b[0m \u001b[0;34m(\u001b[0m\u001b[0mnum\u001b[0m \u001b[0;34m//\u001b[0m \u001b[0;36m4\u001b[0m\u001b[0;34m)\u001b[0m \u001b[0;31m#error\u001b[0m\u001b[0;34m\u001b[0m\u001b[0m\n\u001b[0m\u001b[1;32m     12\u001b[0m \u001b[0mprint\u001b[0m\u001b[0;34m(\u001b[0m\u001b[0mstr\u001b[0m\u001b[0;34m(\u001b[0m\u001b[0mnum\u001b[0m\u001b[0;34m)\u001b[0m\u001b[0;34m)\u001b[0m\u001b[0;34m\u001b[0m\u001b[0m\n",
      "\u001b[0;31mZeroDivisionError\u001b[0m: integer division or modulo by zero"
     ]
    }
   ],
   "source": [
    "#Exercise 2.A\n",
    "num = 5\n",
    "print(str(num)) #5\n",
    "num = num + 2\n",
    "print(str(num)) #7\n",
    "num = num // 3 * 6\n",
    "print(str(num)) #12\n",
    "print(str(7 + 15 % 4)) #10\n",
    "num = 24 // 3 // 4 \n",
    "print(str(num)) #2\n",
    "num = 24 // (num // 4) #error\n",
    "print(str(num))"
   ]
  },
  {
   "cell_type": "code",
   "execution_count": 7,
   "metadata": {
    "collapsed": true
   },
   "outputs": [],
   "source": [
    "#Exercise 2.B\n",
    "\n",
    "#BBC = TRUE\n",
    "#Python = TRUE\n",
    "#y2k = TRUE\n",
    "#Y2K = TRUE \n",
    "#old = TRUE\n",
    "#new = TRUE\n",
    "#3GL = FALSE\n",
    "#a.out = FALSE\n",
    "#first-choice = FALSE\n",
    "#2nd_choice = FALSE\n",
    "#third_choice = TRUE"
   ]
  },
  {
   "cell_type": "code",
   "execution_count": 8,
   "metadata": {},
   "outputs": [
    {
     "name": "stdout",
     "output_type": "stream",
     "text": [
      "real art\n",
      "7\n"
     ]
    }
   ],
   "source": [
    "#Exercise 2.C\n",
    "s = 'artificial reality'\n",
    "print(s[11:15] + ' ' + s[0:3]) #real art\n",
    "length = len(s[11:])\n",
    "print(str(length)) #7"
   ]
  },
  {
   "cell_type": "code",
   "execution_count": 9,
   "metadata": {},
   "outputs": [
    {
     "name": "stdout",
     "output_type": "stream",
     "text": [
      "False\n",
      "True\n",
      "False\n",
      "True\n",
      "False\n"
     ]
    }
   ],
   "source": [
    "#Exercise 3.A\n",
    "\n",
    "s='A' \n",
    "t='9'\n",
    "print(s<t) #FALSE\n",
    "s='Zurich' \n",
    "t='acapulco'\n",
    "print(s<t) #TRUE\n",
    "s='Abba' \n",
    "t='ABBA'\n",
    "print(s<t) #FALSE\n",
    "s='long_thing_with_a_$' \n",
    "t='long_thing_with_a_&'\n",
    "print(s<t) #TRUE\n",
    "s='King@example.invalid' \n",
    "t='King Kong'\n",
    "print(s<t) #FALSE"
   ]
  },
  {
   "cell_type": "code",
   "execution_count": 10,
   "metadata": {},
   "outputs": [
    {
     "name": "stdout",
     "output_type": "stream",
     "text": [
      "Enter husband salary: \n",
      "40000\n",
      "Enter wife salary: \n",
      "60000\n",
      "Sorry, you have to pay more tax\n"
     ]
    }
   ],
   "source": [
    "#Exercise 3.B\n",
    "\n",
    "print('Enter husband salary: ')\n",
    "s = input()\n",
    "h_salary = int(s)\n",
    "print('Enter wife salary: ')\n",
    "s = input()\n",
    "w_salary = int(s)\n",
    "if h_salary+w_salary>40000:\n",
    "    print('Sorry, you have to pay more tax')\n",
    "else:\n",
    "    print('You are under the higher rate limit')"
   ]
  },
  {
   "cell_type": "code",
   "execution_count": 11,
   "metadata": {},
   "outputs": [
    {
     "name": "stdout",
     "output_type": "stream",
     "text": [
      "Please key in your exam mark: 89\n",
      "An exceptional result!\n",
      "We expect a first-class project from you.\n"
     ]
    }
   ],
   "source": [
    "#Exercise 3.C\n",
    "print('Please key in your exam mark: ', end = '')\n",
    "s = input()\n",
    "examMark = int(s)\n",
    "if examMark < 0 or examMark > 100:\n",
    "    print('Invalid mark entered - needs to be in the range 0..100')\n",
    "elif examMark >= 70:\n",
    "    print('An exceptional result!')\n",
    "    print('We expect a first-class project from you.')\n",
    "elif examMark >= 50:\n",
    "    print('A satisfactory result!')\n",
    "    print('You may proceed with your project.')\n",
    "else:\n",
    "    print('Sorry, you have failed.')\n",
    "    print('You may re-enter next year.')"
   ]
  },
  {
   "cell_type": "code",
   "execution_count": 12,
   "metadata": {},
   "outputs": [
    {
     "name": "stdout",
     "output_type": "stream",
     "text": [
      "input first number:\n",
      "89\n",
      "input second number:\n",
      "81\n",
      "No\n"
     ]
    }
   ],
   "source": [
    "#Exercise 3.D\n",
    "\n",
    "#Write a program which takes two integers as input. If the first is exactly divisible by the\n",
    "#second (such as 10 and 5 or 24 and 8, but not 10 and 3 or 24 and 7) it outputs ‘Yes’,\n",
    "#otherwise ‘No’, except when the second is zero, in which case it outputs ‘Cannot divide\n",
    "#by zero’. Remember you can use the modulo operator (“%”) to find out whether one\n",
    "#number is divisible by another.\n",
    "\n",
    "print('input first number:')\n",
    "n1 = input()\n",
    "num1 = int(n1)\n",
    "print('input second number:')\n",
    "n2 = input()\n",
    "num2 = int(n2)\n",
    "if num2 == 0:\n",
    "    print('Cannot divide by zero!')\n",
    "elif num1 % num2 == 0:\n",
    "    print('Yes')\n",
    "else:\n",
    "    print('No')"
   ]
  },
  {
   "cell_type": "code",
   "execution_count": 13,
   "metadata": {},
   "outputs": [
    {
     "name": "stdout",
     "output_type": "stream",
     "text": [
      "Please enter 24 hour time, e.g. 930 is 9.30am, 2345 is 11.45pm:\n",
      "6969\n",
      "?\n"
     ]
    }
   ],
   "source": [
    "#Write a program which takes an integer as its input, representing the time using the\n",
    "#24-hour clock. For example, 930 is 9.30 am; 2345 is 11.45 pm. Midnight is zero. The\n",
    "#program responds with a suitable greeting for the time of day (e.g., ‘Good morning’,\n",
    "#‘Good afternoon’, or ‘Good evening’). If you want to make this a bit harder, make the\n",
    "#program respond with a ’?’ if the time represented by the number is impossible, such\n",
    "#as 2400, -5 or 1163#\n",
    "\n",
    "print('Please enter 24 hour time, e.g. 930 is 9.30am, 2345 is 11.45pm:')\n",
    "hr = input()\n",
    "hr = int(hr)\n",
    "if hr >2400 or hr<0:\n",
    "    print('?')\n",
    "elif hr>0 and hr<1200:\n",
    "    print('Good morning!')\n",
    "elif hr >= 1200 and hr < 1800:\n",
    "    print('Good afternoon!')\n",
    "else:\n",
    "    print('Good evening!')\n"
   ]
  },
  {
   "cell_type": "code",
   "execution_count": 14,
   "metadata": {},
   "outputs": [
    {
     "name": "stdout",
     "output_type": "stream",
     "text": [
      "1\n",
      "4\n",
      "9\n",
      "16\n",
      "25\n",
      "36\n",
      "49\n",
      "64\n",
      "81\n",
      "100\n",
      "Done looping!\n"
     ]
    }
   ],
   "source": [
    "#Exercise 4.A\n",
    "\n",
    "num = 0\n",
    "while num < 10:\n",
    "    num = num + 1\n",
    "    print(str(num**2))\n",
    "    \n",
    "print('Done looping!')"
   ]
  },
  {
   "cell_type": "code",
   "execution_count": 15,
   "metadata": {
    "scrolled": true
   },
   "outputs": [
    {
     "name": "stdout",
     "output_type": "stream",
     "text": [
      "Please enter 5 numbers:\n",
      ">4985\n",
      ">2398\n",
      ">2839472\n",
      ">2384\n",
      ">23942093\n",
      "The largest number is 23942093\n",
      "The smallest number is 2384\n"
     ]
    }
   ],
   "source": [
    "#Exercise 4.B\n",
    "\n",
    "print('Please enter 5 numbers:')\n",
    "print('>', end = '')\n",
    "n1 = input()\n",
    "print('>', end = '')\n",
    "n2 = input()\n",
    "print('>', end = '')\n",
    "n3 = input()\n",
    "print('>', end = '')\n",
    "n4 = input()\n",
    "print('>', end = '')\n",
    "n5 = input()\n",
    "\n",
    "narray = [int(n1),int(n2),int(n3),int(n4),int(n5)]\n",
    "\n",
    "nmin = min(narray)\n",
    "nmax = max(narray)\n",
    "print('The largest number is ' + str(nmax))\n",
    "print('The smallest number is ' + str(nmin))\n"
   ]
  },
  {
   "cell_type": "code",
   "execution_count": 16,
   "metadata": {},
   "outputs": [
    {
     "name": "stdout",
     "output_type": "stream",
     "text": [
      "False\n",
      "True\n",
      "True\n",
      "False\n"
     ]
    }
   ],
   "source": [
    "#Exercise 4.C\n",
    "\n",
    "x = 5\n",
    "y = 20\n",
    "s = 'Birkbeck'\n",
    "\n",
    "print(x == 5 and y == 10) #FALSE\n",
    "print(x < 0 or y > 15) #TRUE\n",
    "print(y % x == 0 and len(s) == 8) #TRUE\n",
    "print(s[1:3] == 'Bir' or x // y > 0) #FALSE"
   ]
  },
  {
   "cell_type": "code",
   "execution_count": 17,
   "metadata": {},
   "outputs": [
    {
     "name": "stdout",
     "output_type": "stream",
     "text": [
      "Please enter a number (end with 0):\n",
      "45\n",
      "Please enter a number (end with 0):\n",
      "45\n",
      "Please enter a number (end with 0):\n",
      "2\n",
      "Please enter a number (end with 0):\n",
      "4434\n",
      "Please enter a number (end with 0):\n",
      "43123\n",
      "Please enter a number (end with 0):\n",
      "2\n",
      "Please enter a number (end with 0):\n",
      "1\n",
      "Please enter a number (end with 0):\n",
      "22\n",
      "Please enter a number (end with 0):\n",
      "79\n",
      "Please enter a number (end with 0):\n",
      "3434\n",
      "Please enter a number (end with 0):\n",
      "343243\n",
      "Please enter a number (end with 0):\n",
      "0\n",
      "You have entered 11 numbers\n"
     ]
    }
   ],
   "source": [
    "#Exercise 4.D\n",
    "#Write a program that reads a series of numbers, ending with 0, and then tells you how\n",
    "#many numbers you have keyed in (other than the last 0). For example, if you keyed in\n",
    "#the numbers 5, -10, 50, 22, -945, 12, 0 it would output ‘You have entered 6 numbers.’.\n",
    "\n",
    "total = 1\n",
    "finished = False\n",
    "\n",
    "while not finished:\n",
    "    print('Please enter a number (end with 0):')\n",
    "    s = input()\n",
    "    num = int(s)\n",
    "    if num != 0:\n",
    "        total = total + 1\n",
    "    else:\n",
    "        finished = True\n",
    "print('You have entered '+ str(total-1) + ' numbers')\n",
    "    \n",
    "        \n",
    "    "
   ]
  },
  {
   "cell_type": "code",
   "execution_count": 20,
   "metadata": {},
   "outputs": [
    {
     "name": "stdout",
     "output_type": "stream",
     "text": [
      "Enter another whole number (0 to finish): 3\n",
      "Enter another whole number (0 to finish): 4\n",
      "Enter another whole number (0 to finish): 5\n",
      "Enter another whole number (0 to finish): 66\n",
      "Enter another whole number (0 to finish): 7\n",
      "Enter another whole number (0 to finish): 2\n",
      "Enter another whole number (0 to finish): 0\n",
      "2\n"
     ]
    }
   ],
   "source": [
    "# this prints out the largest number - last if you increment, but not if you jump around. \n",
    "# to print the last number, remove final if clause.\n",
    "m = 0\n",
    "finished = False\n",
    "while not finished:\n",
    "    print('Enter another whole number (0 to finish): ', end = '')\n",
    "    s = input()\n",
    "    num = int(s)\n",
    "    if num != 0:\n",
    "        #if num > m:\n",
    "            m = num\n",
    "    else:\n",
    "        finished = True\n",
    "print(str(m))"
   ]
  },
  {
   "cell_type": "code",
   "execution_count": 22,
   "metadata": {},
   "outputs": [
    {
     "name": "stdout",
     "output_type": "stream",
     "text": [
      "Please enter a number (0 to finish):3\n",
      "Please enter a number (0 to finish):4\n",
      "Please enter a number (0 to finish):100\n",
      "Please enter a number (0 to finish):100\n",
      "Please enter a number (0 to finish):4\n",
      "Please enter a number (0 to finish):100\n",
      "Please enter a number (0 to finish):0\n",
      "3\n"
     ]
    }
   ],
   "source": [
    "#Exercise X3\n",
    "#Write a program that takes a series of numbers (ending in 0) and counts the number of\n",
    "#times that the number 100 appears in the list. For example, for the series 2, 6, 100, 50,\n",
    "#101, 100, 88, 0, it would output 2.\n",
    "n = 0\n",
    "finished = False\n",
    "while not finished:\n",
    "    print ('Please enter a number (0 to finish):', end = '')\n",
    "    s = input()\n",
    "    m = int(s)\n",
    "\n",
    "    if m != 0:\n",
    "    \n",
    "        if m == 100:\n",
    "            n += 1\n",
    "        else:\n",
    "            n = n\n",
    "    else:\n",
    "        finished = True\n",
    "    \n",
    "print(str(n))\n",
    "    "
   ]
  },
  {
   "cell_type": "code",
   "execution_count": null,
   "metadata": {},
   "outputs": [],
   "source": [
    "#Exercise X4\n",
    "#Write a program that takes a series of lines of text (ending by an empty string) and, at\n",
    "#the end, outputs the longest line. You may assume there is at least one line in the input.\n",
    "\n",
    "x = 0\n",
    "m = ''\n",
    "finished  = False\n",
    "while not finished:\n",
    "    print ('Enter some text (blank to finish):', end = '')\n",
    "    s = input()\n",
    "    \n",
    "    if len(s) !=0:\n",
    "        if len(s)>x:\n",
    "            x = len(s)\n",
    "            m = s\n",
    "        else:\n",
    "            x = x\n",
    "            m = m\n",
    "    else:\n",
    "        finished = True\n",
    "print (m)\n",
    "            "
   ]
  },
  {
   "cell_type": "code",
   "execution_count": 4,
   "metadata": {},
   "outputs": [
    {
     "name": "stdout",
     "output_type": "stream",
     "text": [
      "Enter the first number:3\n",
      "Enter the next number (0 to finish):4\n",
      "Up\n",
      "Enter the next number (0 to finish):4\n",
      "Same\n",
      "Enter the next number (0 to finish):2\n",
      "Down\n",
      "Enter the next number (0 to finish):6\n",
      "Up\n",
      "Enter the next number (0 to finish):66\n",
      "Up\n",
      "Enter the next number (0 to finish):324\n",
      "Up\n",
      "Enter the next number (0 to finish):1\n",
      "Down\n",
      "Enter the next number (0 to finish):4\n",
      "Same\n",
      "Enter the next number (0 to finish):4\n",
      "Same\n",
      "Enter the next number (0 to finish):0\n"
     ]
    }
   ],
   "source": [
    "#Exercise X5 (this one is a bit harder)\n",
    "#Write a program that takes a series of numbers (ending in 0). If the current number is\n",
    "#the same as the previous number, it says `Same'; if the current number is greater than\n",
    "#the previous one, it says `Up', and if it's less than the previous one, it says `Down'. It\n",
    "#makes no response at all to the very first number. For example, its output for the list 9,\n",
    "#9, 8, 5, 10, 10, 0, would be Same, Down, Down, Up, Same (comparing, in turn, 9 and 9,\n",
    "#9 and 8, 8 and 5, 5 and 10, 10 and 10). You may assume there are at least two numbers\n",
    "#in the input.\n",
    "\n",
    "finished  = False\n",
    "print ('Enter the first number:', end = '')\n",
    "s = input()\n",
    "m = int(s)\n",
    "\n",
    "print ('Enter the next number (0 to finish):', end = '')\n",
    "a = input()\n",
    "b = int(a)\n",
    "    \n",
    "if b !=0:\n",
    "    if b==m:\n",
    "        print('Same')\n",
    "    elif b > m:\n",
    "        print('Up')\n",
    "    else:\n",
    "        print('Down')\n",
    "else:\n",
    "    finished = True\n",
    "    \n",
    "c = b   \n",
    "\n",
    "while not finished:  \n",
    "    \n",
    "    print ('Enter the next number (0 to finish):', end = '')\n",
    "    a = input()\n",
    "    b = int(a)\n",
    "    \n",
    "    if b !=0:\n",
    "        if b==c:\n",
    "            print('Same')\n",
    "        elif b > c:\n",
    "            print('Up')\n",
    "        else:\n",
    "            print('Down')\n",
    "            \n",
    "            \n",
    "    else:\n",
    "        finished = True\n",
    "            \n",
    "    \n",
    "\n",
    "\n",
    "            \n"
   ]
  },
  {
   "cell_type": "code",
   "execution_count": 39,
   "metadata": {},
   "outputs": [
    {
     "name": "stdout",
     "output_type": "stream",
     "text": [
      "Enter the first number:1\n",
      "Enter the next number (0 to finish):4\n",
      "Enter the next number (0 to finish):7\n",
      "Enter the next number (0 to finish):2\n",
      "Enter the next number (0 to finish):3\n",
      "Enter the next number (0 to finish):5\n",
      "Enter the next number (0 to finish):5\n",
      "Enter the next number (0 to finish):5\n",
      "Enter the next number (0 to finish):0\n",
      "[1, 4, 7, 2, 3, 5, 5, 5]\n",
      "Up\n",
      "Up\n",
      "Down\n",
      "Up\n",
      "Up\n",
      "Same\n",
      "Same\n"
     ]
    }
   ],
   "source": [
    "#Exercise X5b (is still a bit harder)\n",
    "#Write a solution for exercise X5 that prints all the `Down', `Same', and `Up' messages\n",
    "#together at the end.\n",
    "\n",
    "finished  = False\n",
    "print ('Enter the first number:', end = '')\n",
    "s = input()\n",
    "m = int(s)\n",
    "n = [m]\n",
    "\n",
    "while not finished:\n",
    "    print ('Enter the next number (0 to finish):', end = '')\n",
    "    a = input()\n",
    "    b = int(a)\n",
    "    \n",
    "    if b ==0:\n",
    "        finished = True\n",
    "#        if b==m:\n",
    "#            print('Same')\n",
    "#        elif b > m:\n",
    "#            print('Up')\n",
    "#        else:\n",
    "#            print('Down')        \n",
    "    else:\n",
    "        n.append(b)\n",
    "       \n",
    "        #c = b   \n",
    "        #n = n\n",
    "print (n)\n",
    "for i in range(1, len(n)):\n",
    "    if n[i] == n[i-1]:\n",
    "        print('Same')\n",
    "    elif n[i] > n[i-1]:\n",
    "        print('Up')\n",
    "    else:\n",
    "        print('Down')\n",
    "        \n",
    "        \n",
    "#while not finished:  \n",
    "#   \n",
    "#    print ('Enter the next number (0 to finish):', end = '')\n",
    "#    a = input()\n",
    "#    b = int(a)\n",
    "#    \n",
    "#   if b ==0:\n",
    " #       if b==c:\n",
    " #           print('Same')\n",
    " #       elif b > c:\n",
    " #          print('Up')\n",
    " #       else:\n",
    " #           print('Down')\n",
    "    \n",
    "#    if b==0:\n",
    "#        finished = True\n",
    "#            \n",
    "#    else:\n",
    "#        n.append(b)\n",
    "#        \n",
    "#for i in range(1, len(n)):\n",
    "#    if i == n[i-1]:\n",
    "#        print('Same')\n",
    "#    elif i > n[i-1]:\n",
    "#        print('Up')\n",
    "#    else:\n",
    "#        print('Down')"
   ]
  },
  {
   "cell_type": "code",
   "execution_count": null,
   "metadata": {
    "collapsed": true
   },
   "outputs": [],
   "source": []
  }
 ],
 "metadata": {
  "kernelspec": {
   "display_name": "Python 3",
   "language": "python",
   "name": "python3"
  },
  "language_info": {
   "codemirror_mode": {
    "name": "ipython",
    "version": 3
   },
   "file_extension": ".py",
   "mimetype": "text/x-python",
   "name": "python",
   "nbconvert_exporter": "python",
   "pygments_lexer": "ipython3",
   "version": "3.6.3"
  }
 },
 "nbformat": 4,
 "nbformat_minor": 2
}
